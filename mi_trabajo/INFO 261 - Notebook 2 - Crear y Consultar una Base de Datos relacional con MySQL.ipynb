{
 "cells": [
  {
   "cell_type": "markdown",
   "metadata": {},
   "source": [
    "# Notebook 2 - Crear y consultar una Base de Datos Relacional con MySQL"
   ]
  },
  {
   "cell_type": "markdown",
   "metadata": {},
   "source": [
    "## Ejercicio 1\n",
    "\n",
    "<b>Requisito:</b>\n",
    "- Descargar el archivo <a href=\"./sakila-db.zip\">sakila-db.zip</a>\n",
    "\n",
    "<b>Problema: Un poco de retro-ingeniería...</b>\n",
    "\n",
    "Tienen a su disposición el archivo sakila-db.zip, lo cual contiene dos archivos:\n",
    "- 'sakila-schema.sql' : una serie de instrucciones en lenguaje SQL para crear una Base de Datos llamada 'sakila'\n",
    "- 'sakila-data.sql' : una serie de instrucciones en SQL para insertar datos en la Base de Datos\n",
    "\n",
    "A partir de estos archivos, el ejercicio consiste en deducir el Modelo Lógico de Datos (Modelo Relacional) y el Modelo Conceptual de Datos (Modelo Entidad-Asociación).\n",
    "\n",
    "- MLD: <b>por completar</b>\n",
    "\n",
    "- MCD: <b>por completar</b>\n",
    "\n",
    "- ¿De qué podría servir esta base de datos? ¿Cuál era su aplicación probable? ¿Cuál sería una adaptación posible más moderna? \n",
    "<b>por responder</b>"
   ]
  },
  {
   "cell_type": "markdown",
   "metadata": {},
   "source": [
    "## Ejercicio 2\n",
    "\n",
    "<b>Requisito:</b>\n",
    "- Haber terminado el ejercicio 2\n",
    "\n",
    "<b>Problema: ¿Cómo importar una base de datos?</b>\n",
    "\n",
    "Queremos cargar la base de datos 'sakila' a partir de los 2 archivos .sql a nuestra disposición. ¿Cómo podemos hacer?\n",
    "\n",
    "<b>Ayuda:</b> Revisar la página de documentación de MySQL que explica cómo ejecutar instrucciones SQL desde un archivo https://dev.mysql.com/doc/refman/8.0/en/mysql-batch-commands.html"
   ]
  },
  {
   "cell_type": "markdown",
   "metadata": {},
   "source": [
    "## Ejercicio 3\n",
    "\n",
    "<b>Requisito:</b>\n",
    "- Haber terminado el ejercicio 3 y haber importado los datos en su MySQL local.\n",
    "\n",
    "<b>Problema: Realizar consultas <code>SELECT</code> simple</b>\n",
    "\n",
    "Desde un entorno Python (o MySQL CLI o MySQL Workbench), realizar los comandos SQL que permiten responder a las consultas siguientes. (No olviden utilizar el comando SQL <code>USE [database-name]</code> ;-))\n",
    "\n",
    "<b> Ayuda: http://www.mysqltutorial.org/basic-mysql-tutorial.aspx</b>"
   ]
  },
  {
   "cell_type": "markdown",
   "metadata": {},
   "source": [
    "1) A partir de la tabla \"film\", mostrar solamente cuáles son los títulos de pelicula disponibles.\n",
    "\n",
    "2) A partir de la tabla \"film\", mostrar de qué años son las peliculas disponibles. NB: utilizar la instrucción <code>DISTINCT</code>\n",
    "\n",
    "3) Mostrar los títulos de pelicula en la tabla \"film\" que se puede arrendar por más de 4 días (rental_duration)\n",
    "\n",
    "4) En la tabla \"payment\", mostrar el customer_id, rental_id, amount y payment_date de todos los arriendos realizados entre las fechas 2005-07-01 y 2005-08-01"
   ]
  },
  {
   "cell_type": "code",
   "execution_count": 4,
   "metadata": {},
   "outputs": [],
   "source": [
    "import mysql.connector\n",
    "import pandas as pd\n",
    "from IPython.display import display,HTML\n",
    "\n",
    "#reemplazar 'root' por el password del usuario administrador de MySQL\n",
    "db_connection = mysql.connector.connect(user=\"root\",host=\"localhost\",password=\"root\")\n",
    "cursor = db_connection.cursor()\n",
    "cursor.execute(\"USE sakila\")"
   ]
  },
  {
   "cell_type": "code",
   "execution_count": 5,
   "metadata": {},
   "outputs": [
    {
     "data": {
      "text/html": [
       "<div>\n",
       "<style scoped>\n",
       "    .dataframe tbody tr th:only-of-type {\n",
       "        vertical-align: middle;\n",
       "    }\n",
       "\n",
       "    .dataframe tbody tr th {\n",
       "        vertical-align: top;\n",
       "    }\n",
       "\n",
       "    .dataframe thead th {\n",
       "        text-align: right;\n",
       "    }\n",
       "</style>\n",
       "<table border=\"1\" class=\"dataframe\">\n",
       "  <thead>\n",
       "    <tr style=\"text-align: right;\">\n",
       "      <th></th>\n",
       "      <th>title</th>\n",
       "      <th>release_year</th>\n",
       "    </tr>\n",
       "  </thead>\n",
       "  <tbody>\n",
       "    <tr>\n",
       "      <th>0</th>\n",
       "      <td>ACADEMY DINOSAUR</td>\n",
       "      <td>2006</td>\n",
       "    </tr>\n",
       "    <tr>\n",
       "      <th>1</th>\n",
       "      <td>ACE GOLDFINGER</td>\n",
       "      <td>2006</td>\n",
       "    </tr>\n",
       "    <tr>\n",
       "      <th>2</th>\n",
       "      <td>ADAPTATION HOLES</td>\n",
       "      <td>2006</td>\n",
       "    </tr>\n",
       "    <tr>\n",
       "      <th>3</th>\n",
       "      <td>AFFAIR PREJUDICE</td>\n",
       "      <td>2006</td>\n",
       "    </tr>\n",
       "    <tr>\n",
       "      <th>4</th>\n",
       "      <td>AFRICAN EGG</td>\n",
       "      <td>2006</td>\n",
       "    </tr>\n",
       "  </tbody>\n",
       "</table>\n",
       "</div>"
      ],
      "text/plain": [
       "              title  release_year\n",
       "0  ACADEMY DINOSAUR          2006\n",
       "1    ACE GOLDFINGER          2006\n",
       "2  ADAPTATION HOLES          2006\n",
       "3  AFFAIR PREJUDICE          2006\n",
       "4       AFRICAN EGG          2006"
      ]
     },
     "metadata": {},
     "output_type": "display_data"
    }
   ],
   "source": [
    "df=pd.read_sql('SELECT title,release_year FROM film LIMIT 5;',con=db_connection)\n",
    "display(df)"
   ]
  },
  {
   "cell_type": "markdown",
   "metadata": {},
   "source": [
    "## Ejercicio 4\n",
    "\n",
    "<b>Requisito:</b>\n",
    "- Haber terminado el ejercicio 4\n",
    "\n",
    "<b>Problema: Realizar consultas <code>SELECT</code> con funciones de agregación </b>\n",
    "\n",
    "Desde un entorno Python (o MySQL CLI o MySQL Workbench), realizar los comandos SQL que permiten responder a las consultas siguientes.\n",
    "\n",
    "<b> Ayuda: http://www.mysqltutorial.org/basic-mysql-tutorial.aspx</b>\n"
   ]
  },
  {
   "cell_type": "markdown",
   "metadata": {},
   "source": [
    "1) Contar el número de clientes en la tabla \"CUSTOMER\"\n",
    "\n",
    "2) En la tabla \"RENTAL\", contar cuánto arriendos se realizó por cada cliente (NB: utilizar la instucción <code>GROUP BY</code> y <code>COUNT</code>)\n",
    "\n",
    "3) ¿Qué devuelve la consulta SQL siguiente?\n",
    "\n",
    "<code>SELECT MAX(total) FROM (SELECT customer_id,count(*) as total FROM rental GROUP BY customer_id) as t1;</code>\n",
    "\n",
    "4) ¿Qué es un sub-consulta?\n",
    "\n",
    "5) En la tabla \"payment\", mostrar el volumen de negocio realizado por cada miembro del staff (staff_id) en total.\n",
    "\n",
    "6) En una consulta, mostrar el staff_id que ha realizado más volumen de negocio el dia 2005-08-23."
   ]
  },
  {
   "cell_type": "code",
   "execution_count": 21,
   "metadata": {},
   "outputs": [
    {
     "data": {
      "text/html": [
       "<div>\n",
       "<style scoped>\n",
       "    .dataframe tbody tr th:only-of-type {\n",
       "        vertical-align: middle;\n",
       "    }\n",
       "\n",
       "    .dataframe tbody tr th {\n",
       "        vertical-align: top;\n",
       "    }\n",
       "\n",
       "    .dataframe thead th {\n",
       "        text-align: right;\n",
       "    }\n",
       "</style>\n",
       "<table border=\"1\" class=\"dataframe\">\n",
       "  <thead>\n",
       "    <tr style=\"text-align: right;\">\n",
       "      <th></th>\n",
       "      <th>COUNT(*)</th>\n",
       "    </tr>\n",
       "  </thead>\n",
       "  <tbody>\n",
       "    <tr>\n",
       "      <th>0</th>\n",
       "      <td>599</td>\n",
       "    </tr>\n",
       "  </tbody>\n",
       "</table>\n",
       "</div>"
      ],
      "text/plain": [
       "   COUNT(*)\n",
       "0       599"
      ]
     },
     "metadata": {},
     "output_type": "display_data"
    }
   ],
   "source": [
    "df=pd.read_sql('SELECT COUNT(*) FROM customer;',con=db_connection)\n",
    "display(df)"
   ]
  },
  {
   "cell_type": "code",
   "execution_count": 3,
   "metadata": {},
   "outputs": [
    {
     "data": {
      "text/html": [
       "<div>\n",
       "<style scoped>\n",
       "    .dataframe tbody tr th:only-of-type {\n",
       "        vertical-align: middle;\n",
       "    }\n",
       "\n",
       "    .dataframe tbody tr th {\n",
       "        vertical-align: top;\n",
       "    }\n",
       "\n",
       "    .dataframe thead th {\n",
       "        text-align: right;\n",
       "    }\n",
       "</style>\n",
       "<table border=\"1\" class=\"dataframe\">\n",
       "  <thead>\n",
       "    <tr style=\"text-align: right;\">\n",
       "      <th></th>\n",
       "      <th>idCliente</th>\n",
       "      <th>total</th>\n",
       "    </tr>\n",
       "  </thead>\n",
       "  <tbody>\n",
       "    <tr>\n",
       "      <th>0</th>\n",
       "      <td>1</td>\n",
       "      <td>32</td>\n",
       "    </tr>\n",
       "    <tr>\n",
       "      <th>1</th>\n",
       "      <td>2</td>\n",
       "      <td>27</td>\n",
       "    </tr>\n",
       "    <tr>\n",
       "      <th>2</th>\n",
       "      <td>3</td>\n",
       "      <td>26</td>\n",
       "    </tr>\n",
       "    <tr>\n",
       "      <th>3</th>\n",
       "      <td>4</td>\n",
       "      <td>22</td>\n",
       "    </tr>\n",
       "    <tr>\n",
       "      <th>4</th>\n",
       "      <td>5</td>\n",
       "      <td>38</td>\n",
       "    </tr>\n",
       "  </tbody>\n",
       "</table>\n",
       "</div>"
      ],
      "text/plain": [
       "   idCliente  total\n",
       "0          1     32\n",
       "1          2     27\n",
       "2          3     26\n",
       "3          4     22\n",
       "4          5     38"
      ]
     },
     "metadata": {},
     "output_type": "display_data"
    }
   ],
   "source": [
    "df=pd.read_sql('SELECT customer_id as idCliente,count(*) as total FROM rental GROUP BY customer_id LIMIT 5;',con=db_connection)\n",
    "display(df)"
   ]
  },
  {
   "cell_type": "code",
   "execution_count": 37,
   "metadata": {},
   "outputs": [
    {
     "data": {
      "text/html": [
       "<div>\n",
       "<style scoped>\n",
       "    .dataframe tbody tr th:only-of-type {\n",
       "        vertical-align: middle;\n",
       "    }\n",
       "\n",
       "    .dataframe tbody tr th {\n",
       "        vertical-align: top;\n",
       "    }\n",
       "\n",
       "    .dataframe thead th {\n",
       "        text-align: right;\n",
       "    }\n",
       "</style>\n",
       "<table border=\"1\" class=\"dataframe\">\n",
       "  <thead>\n",
       "    <tr style=\"text-align: right;\">\n",
       "      <th></th>\n",
       "      <th>MAX(total)</th>\n",
       "    </tr>\n",
       "  </thead>\n",
       "  <tbody>\n",
       "    <tr>\n",
       "      <th>0</th>\n",
       "      <td>46</td>\n",
       "    </tr>\n",
       "  </tbody>\n",
       "</table>\n",
       "</div>"
      ],
      "text/plain": [
       "   MAX(total)\n",
       "0          46"
      ]
     },
     "metadata": {},
     "output_type": "display_data"
    }
   ],
   "source": [
    "df=pd.read_sql('SELECT MAX(total) FROM (SELECT customer_id,count(*) as total FROM rental GROUP BY customer_id) as t1;',con=db_connection)\n",
    "display(df)"
   ]
  },
  {
   "cell_type": "markdown",
   "metadata": {},
   "source": [
    "<b>3)</b> Lo que hace la consulta anterior es realizar una subconsulta para poder encontrar el máximo de arriendos que ha podido hacer alguno cliente"
   ]
  },
  {
   "cell_type": "markdown",
   "metadata": {},
   "source": [
    "</b>4)</b> Una subconsulta es cuando se hace una instrucción de consulta (SELECT, INSERT, etc.) contenida dentro de otra consulta"
   ]
  },
  {
   "cell_type": "code",
   "execution_count": 45,
   "metadata": {},
   "outputs": [
    {
     "data": {
      "text/html": [
       "<div>\n",
       "<style scoped>\n",
       "    .dataframe tbody tr th:only-of-type {\n",
       "        vertical-align: middle;\n",
       "    }\n",
       "\n",
       "    .dataframe tbody tr th {\n",
       "        vertical-align: top;\n",
       "    }\n",
       "\n",
       "    .dataframe thead th {\n",
       "        text-align: right;\n",
       "    }\n",
       "</style>\n",
       "<table border=\"1\" class=\"dataframe\">\n",
       "  <thead>\n",
       "    <tr style=\"text-align: right;\">\n",
       "      <th></th>\n",
       "      <th>idStaff</th>\n",
       "      <th>total</th>\n",
       "    </tr>\n",
       "  </thead>\n",
       "  <tbody>\n",
       "    <tr>\n",
       "      <th>0</th>\n",
       "      <td>1</td>\n",
       "      <td>8057</td>\n",
       "    </tr>\n",
       "    <tr>\n",
       "      <th>1</th>\n",
       "      <td>2</td>\n",
       "      <td>7992</td>\n",
       "    </tr>\n",
       "  </tbody>\n",
       "</table>\n",
       "</div>"
      ],
      "text/plain": [
       "   idStaff  total\n",
       "0        1   8057\n",
       "1        2   7992"
      ]
     },
     "metadata": {},
     "output_type": "display_data"
    }
   ],
   "source": [
    "df=pd.read_sql('SELECT staff_id as idStaff,count(*) as total FROM payment GROUP BY staff_id;',con=db_connection)\n",
    "display(df)"
   ]
  },
  {
   "cell_type": "code",
   "execution_count": 69,
   "metadata": {},
   "outputs": [
    {
     "data": {
      "text/html": [
       "<div>\n",
       "<style scoped>\n",
       "    .dataframe tbody tr th:only-of-type {\n",
       "        vertical-align: middle;\n",
       "    }\n",
       "\n",
       "    .dataframe tbody tr th {\n",
       "        vertical-align: top;\n",
       "    }\n",
       "\n",
       "    .dataframe thead th {\n",
       "        text-align: right;\n",
       "    }\n",
       "</style>\n",
       "<table border=\"1\" class=\"dataframe\">\n",
       "  <thead>\n",
       "    <tr style=\"text-align: right;\">\n",
       "      <th></th>\n",
       "      <th>staff_id</th>\n",
       "      <th>MAX(total)</th>\n",
       "    </tr>\n",
       "  </thead>\n",
       "  <tbody>\n",
       "    <tr>\n",
       "      <th>0</th>\n",
       "      <td>1</td>\n",
       "      <td>331</td>\n",
       "    </tr>\n",
       "  </tbody>\n",
       "</table>\n",
       "</div>"
      ],
      "text/plain": [
       "   staff_id  MAX(total)\n",
       "0         1         331"
      ]
     },
     "metadata": {},
     "output_type": "display_data"
    }
   ],
   "source": [
    "df=pd.read_sql('SELECT staff_id,MAX(total) FROM (SELECT staff_id,count(*) as total FROM payment \\\n",
    "WHERE payment_date between \"2005-08-23\" and \"2005-08-24\" GROUP BY staff_id) as t2;',con=db_connection)\n",
    "display(df)"
   ]
  },
  {
   "cell_type": "markdown",
   "metadata": {},
   "source": [
    "## Ejercicio 5\n",
    "\n",
    "<b>Requisito:</b>\n",
    "- Haber terminado el ejercicio 4\n",
    "\n",
    "<b>Problema: Realizar consultas <code>SELECT</code> con operaciones de JOIN </b>\n",
    "\n",
    "Desde un entorno Python (o MySQL CLI o MySQL Workbench), realizar los comandos SQL que permiten responder a las consultas siguientes.\n",
    "\n",
    "<b> Ayuda: http://www.mysqltutorial.org/basic-mysql-tutorial.aspx</b>\n"
   ]
  },
  {
   "cell_type": "markdown",
   "metadata": {},
   "source": [
    "1) En las peliculas \"Film\" y \"Language\", mostrar el título de la pelicula y el nombre de su idioma. (NB: utilizar una operación de INNER JOIN)\n",
    "\n",
    "2) Mostrar los nombres y apellidos de los clientes que han arrendado la pelicula \"CHICAGO NORTH\"\n",
    "\n",
    "3) Mostrar por cada nombres y apellidos de cliente, en qué ciudad viven (tabla Customer y City)\n",
    "\n",
    "4) Mostrar cuántas veces fueron arrendadas las peliculas (mostrando el título de la pelicula)\n",
    "\n",
    "5) Mostrar qué pelicula generó más volumen de negocio\n",
    "\n",
    "6) Mostrar los clientes que arrendar"
   ]
  },
  {
   "cell_type": "code",
   "execution_count": 7,
   "metadata": {},
   "outputs": [
    {
     "data": {
      "text/html": [
       "<div>\n",
       "<style scoped>\n",
       "    .dataframe tbody tr th:only-of-type {\n",
       "        vertical-align: middle;\n",
       "    }\n",
       "\n",
       "    .dataframe tbody tr th {\n",
       "        vertical-align: top;\n",
       "    }\n",
       "\n",
       "    .dataframe thead th {\n",
       "        text-align: right;\n",
       "    }\n",
       "</style>\n",
       "<table border=\"1\" class=\"dataframe\">\n",
       "  <thead>\n",
       "    <tr style=\"text-align: right;\">\n",
       "      <th></th>\n",
       "      <th>title</th>\n",
       "      <th>name</th>\n",
       "    </tr>\n",
       "  </thead>\n",
       "  <tbody>\n",
       "    <tr>\n",
       "      <th>0</th>\n",
       "      <td>ACADEMY DINOSAUR</td>\n",
       "      <td>English</td>\n",
       "    </tr>\n",
       "    <tr>\n",
       "      <th>1</th>\n",
       "      <td>ACE GOLDFINGER</td>\n",
       "      <td>English</td>\n",
       "    </tr>\n",
       "    <tr>\n",
       "      <th>2</th>\n",
       "      <td>ADAPTATION HOLES</td>\n",
       "      <td>English</td>\n",
       "    </tr>\n",
       "    <tr>\n",
       "      <th>3</th>\n",
       "      <td>AFFAIR PREJUDICE</td>\n",
       "      <td>English</td>\n",
       "    </tr>\n",
       "    <tr>\n",
       "      <th>4</th>\n",
       "      <td>AFRICAN EGG</td>\n",
       "      <td>English</td>\n",
       "    </tr>\n",
       "  </tbody>\n",
       "</table>\n",
       "</div>"
      ],
      "text/plain": [
       "              title     name\n",
       "0  ACADEMY DINOSAUR  English\n",
       "1    ACE GOLDFINGER  English\n",
       "2  ADAPTATION HOLES  English\n",
       "3  AFFAIR PREJUDICE  English\n",
       "4       AFRICAN EGG  English"
      ]
     },
     "metadata": {},
     "output_type": "display_data"
    }
   ],
   "source": [
    "df=pd.read_sql('SELECT title,name FROM film INNER JOIN language \\\n",
    "on film.language_id=language.language_id LIMIT 5;',con=db_connection)\n",
    "display(df)"
   ]
  },
  {
   "cell_type": "code",
   "execution_count": 4,
   "metadata": {},
   "outputs": [
    {
     "data": {
      "text/html": [
       "<div>\n",
       "<style scoped>\n",
       "    .dataframe tbody tr th:only-of-type {\n",
       "        vertical-align: middle;\n",
       "    }\n",
       "\n",
       "    .dataframe tbody tr th {\n",
       "        vertical-align: top;\n",
       "    }\n",
       "\n",
       "    .dataframe thead th {\n",
       "        text-align: right;\n",
       "    }\n",
       "</style>\n",
       "<table border=\"1\" class=\"dataframe\">\n",
       "  <thead>\n",
       "    <tr style=\"text-align: right;\">\n",
       "      <th></th>\n",
       "      <th>first_name</th>\n",
       "      <th>last_name</th>\n",
       "    </tr>\n",
       "  </thead>\n",
       "  <tbody>\n",
       "    <tr>\n",
       "      <th>0</th>\n",
       "      <td>ARNOLD</td>\n",
       "      <td>HAVENS</td>\n",
       "    </tr>\n",
       "    <tr>\n",
       "      <th>1</th>\n",
       "      <td>PENNY</td>\n",
       "      <td>NEAL</td>\n",
       "    </tr>\n",
       "    <tr>\n",
       "      <th>2</th>\n",
       "      <td>MARGIE</td>\n",
       "      <td>WADE</td>\n",
       "    </tr>\n",
       "    <tr>\n",
       "      <th>3</th>\n",
       "      <td>ALVIN</td>\n",
       "      <td>DELOACH</td>\n",
       "    </tr>\n",
       "    <tr>\n",
       "      <th>4</th>\n",
       "      <td>CAROLE</td>\n",
       "      <td>BARNETT</td>\n",
       "    </tr>\n",
       "  </tbody>\n",
       "</table>\n",
       "</div>"
      ],
      "text/plain": [
       "  first_name last_name\n",
       "0     ARNOLD    HAVENS\n",
       "1      PENNY      NEAL\n",
       "2     MARGIE      WADE\n",
       "3      ALVIN   DELOACH\n",
       "4     CAROLE   BARNETT"
      ]
     },
     "metadata": {},
     "output_type": "display_data"
    }
   ],
   "source": [
    "df=pd.read_sql('SELECT first_name,last_name FROM customer INNER JOIN rental ON \\\n",
    "customer.customer_id=rental.customer_id INNER JOIN inventory ON rental.inventory_id=inventory.inventory_id \\\n",
    "INNER JOIN film ON inventory.film_id=film.film_id WHERE film.title=\\\"CHICAGO NORTH\\\" LIMIT 5;',con=db_connection)\n",
    "display(df)"
   ]
  },
  {
   "cell_type": "code",
   "execution_count": 103,
   "metadata": {},
   "outputs": [
    {
     "data": {
      "text/html": [
       "<div>\n",
       "<style scoped>\n",
       "    .dataframe tbody tr th:only-of-type {\n",
       "        vertical-align: middle;\n",
       "    }\n",
       "\n",
       "    .dataframe tbody tr th {\n",
       "        vertical-align: top;\n",
       "    }\n",
       "\n",
       "    .dataframe thead th {\n",
       "        text-align: right;\n",
       "    }\n",
       "</style>\n",
       "<table border=\"1\" class=\"dataframe\">\n",
       "  <thead>\n",
       "    <tr style=\"text-align: right;\">\n",
       "      <th></th>\n",
       "      <th>first_name</th>\n",
       "      <th>last_name</th>\n",
       "      <th>city</th>\n",
       "    </tr>\n",
       "  </thead>\n",
       "  <tbody>\n",
       "    <tr>\n",
       "      <th>0</th>\n",
       "      <td>MARY</td>\n",
       "      <td>SMITH</td>\n",
       "      <td>Sasebo</td>\n",
       "    </tr>\n",
       "    <tr>\n",
       "      <th>1</th>\n",
       "      <td>PATRICIA</td>\n",
       "      <td>JOHNSON</td>\n",
       "      <td>San Bernardino</td>\n",
       "    </tr>\n",
       "    <tr>\n",
       "      <th>2</th>\n",
       "      <td>LINDA</td>\n",
       "      <td>WILLIAMS</td>\n",
       "      <td>Athenai</td>\n",
       "    </tr>\n",
       "    <tr>\n",
       "      <th>3</th>\n",
       "      <td>BARBARA</td>\n",
       "      <td>JONES</td>\n",
       "      <td>Myingyan</td>\n",
       "    </tr>\n",
       "    <tr>\n",
       "      <th>4</th>\n",
       "      <td>ELIZABETH</td>\n",
       "      <td>BROWN</td>\n",
       "      <td>Nantou</td>\n",
       "    </tr>\n",
       "  </tbody>\n",
       "</table>\n",
       "</div>"
      ],
      "text/plain": [
       "  first_name last_name            city\n",
       "0       MARY     SMITH          Sasebo\n",
       "1   PATRICIA   JOHNSON  San Bernardino\n",
       "2      LINDA  WILLIAMS         Athenai\n",
       "3    BARBARA     JONES        Myingyan\n",
       "4  ELIZABETH     BROWN          Nantou"
      ]
     },
     "metadata": {},
     "output_type": "display_data"
    }
   ],
   "source": [
    "df=pd.read_sql('SELECT first_name,last_name,city FROM customer INNER JOIN address \\\n",
    "ON customer.address_id=address.address_id INNER JOIN city ON address.city_id=city.city_id LIMIT 5;',con=db_connection)\n",
    "display(df)"
   ]
  },
  {
   "cell_type": "code",
   "execution_count": 8,
   "metadata": {},
   "outputs": [
    {
     "data": {
      "text/html": [
       "<div>\n",
       "<style scoped>\n",
       "    .dataframe tbody tr th:only-of-type {\n",
       "        vertical-align: middle;\n",
       "    }\n",
       "\n",
       "    .dataframe tbody tr th {\n",
       "        vertical-align: top;\n",
       "    }\n",
       "\n",
       "    .dataframe thead th {\n",
       "        text-align: right;\n",
       "    }\n",
       "</style>\n",
       "<table border=\"1\" class=\"dataframe\">\n",
       "  <thead>\n",
       "    <tr style=\"text-align: right;\">\n",
       "      <th></th>\n",
       "      <th>title</th>\n",
       "      <th>count(*)</th>\n",
       "    </tr>\n",
       "  </thead>\n",
       "  <tbody>\n",
       "    <tr>\n",
       "      <th>0</th>\n",
       "      <td>ACADEMY DINOSAUR</td>\n",
       "      <td>23</td>\n",
       "    </tr>\n",
       "    <tr>\n",
       "      <th>1</th>\n",
       "      <td>ACE GOLDFINGER</td>\n",
       "      <td>7</td>\n",
       "    </tr>\n",
       "    <tr>\n",
       "      <th>2</th>\n",
       "      <td>ADAPTATION HOLES</td>\n",
       "      <td>12</td>\n",
       "    </tr>\n",
       "    <tr>\n",
       "      <th>3</th>\n",
       "      <td>AFFAIR PREJUDICE</td>\n",
       "      <td>23</td>\n",
       "    </tr>\n",
       "    <tr>\n",
       "      <th>4</th>\n",
       "      <td>AFRICAN EGG</td>\n",
       "      <td>12</td>\n",
       "    </tr>\n",
       "  </tbody>\n",
       "</table>\n",
       "</div>"
      ],
      "text/plain": [
       "              title  count(*)\n",
       "0  ACADEMY DINOSAUR        23\n",
       "1    ACE GOLDFINGER         7\n",
       "2  ADAPTATION HOLES        12\n",
       "3  AFFAIR PREJUDICE        23\n",
       "4       AFRICAN EGG        12"
      ]
     },
     "metadata": {},
     "output_type": "display_data"
    }
   ],
   "source": [
    "df=pd.read_sql('SELECT title,count(*) FROM film INNER JOIN inventory \\\n",
    "ON film.film_id=inventory.film_id INNER JOIN rental ON inventory.inventory_id=rental.inventory_id \\\n",
    "GROUP BY title LIMIT 5;',con=db_connection)\n",
    "display(df)"
   ]
  },
  {
   "cell_type": "code",
   "execution_count": 6,
   "metadata": {},
   "outputs": [
    {
     "data": {
      "text/html": [
       "<div>\n",
       "<style scoped>\n",
       "    .dataframe tbody tr th:only-of-type {\n",
       "        vertical-align: middle;\n",
       "    }\n",
       "\n",
       "    .dataframe tbody tr th {\n",
       "        vertical-align: top;\n",
       "    }\n",
       "\n",
       "    .dataframe thead th {\n",
       "        text-align: right;\n",
       "    }\n",
       "</style>\n",
       "<table border=\"1\" class=\"dataframe\">\n",
       "  <thead>\n",
       "    <tr style=\"text-align: right;\">\n",
       "      <th></th>\n",
       "      <th>title</th>\n",
       "      <th>MAX(total)</th>\n",
       "    </tr>\n",
       "  </thead>\n",
       "  <tbody>\n",
       "    <tr>\n",
       "      <th>0</th>\n",
       "      <td>ACADEMY DINOSAUR</td>\n",
       "      <td>34</td>\n",
       "    </tr>\n",
       "  </tbody>\n",
       "</table>\n",
       "</div>"
      ],
      "text/plain": [
       "              title  MAX(total)\n",
       "0  ACADEMY DINOSAUR          34"
      ]
     },
     "metadata": {},
     "output_type": "display_data"
    }
   ],
   "source": [
    "df=pd.read_sql('SELECT title,MAX(total) FROM (SELECT title,count(*) as total FROM film INNER JOIN inventory \\\n",
    "ON film.film_id=inventory.film_id INNER JOIN rental ON inventory.inventory_id=rental.inventory_id \\\n",
    "GROUP BY title) as t3;',con=db_connection)\n",
    "display(df)"
   ]
  },
  {
   "cell_type": "code",
   "execution_count": 7,
   "metadata": {},
   "outputs": [
    {
     "data": {
      "text/html": [
       "<div>\n",
       "<style scoped>\n",
       "    .dataframe tbody tr th:only-of-type {\n",
       "        vertical-align: middle;\n",
       "    }\n",
       "\n",
       "    .dataframe tbody tr th {\n",
       "        vertical-align: top;\n",
       "    }\n",
       "\n",
       "    .dataframe thead th {\n",
       "        text-align: right;\n",
       "    }\n",
       "</style>\n",
       "<table border=\"1\" class=\"dataframe\">\n",
       "  <thead>\n",
       "    <tr style=\"text-align: right;\">\n",
       "      <th></th>\n",
       "      <th>first_name</th>\n",
       "      <th>last_name</th>\n",
       "    </tr>\n",
       "  </thead>\n",
       "  <tbody>\n",
       "    <tr>\n",
       "      <th>0</th>\n",
       "      <td>MARY</td>\n",
       "      <td>SMITH</td>\n",
       "    </tr>\n",
       "    <tr>\n",
       "      <th>1</th>\n",
       "      <td>PATRICIA</td>\n",
       "      <td>JOHNSON</td>\n",
       "    </tr>\n",
       "    <tr>\n",
       "      <th>2</th>\n",
       "      <td>LINDA</td>\n",
       "      <td>WILLIAMS</td>\n",
       "    </tr>\n",
       "    <tr>\n",
       "      <th>3</th>\n",
       "      <td>BARBARA</td>\n",
       "      <td>JONES</td>\n",
       "    </tr>\n",
       "    <tr>\n",
       "      <th>4</th>\n",
       "      <td>ELIZABETH</td>\n",
       "      <td>BROWN</td>\n",
       "    </tr>\n",
       "    <tr>\n",
       "      <th>5</th>\n",
       "      <td>JENNIFER</td>\n",
       "      <td>DAVIS</td>\n",
       "    </tr>\n",
       "    <tr>\n",
       "      <th>6</th>\n",
       "      <td>MARIA</td>\n",
       "      <td>MILLER</td>\n",
       "    </tr>\n",
       "    <tr>\n",
       "      <th>7</th>\n",
       "      <td>SUSAN</td>\n",
       "      <td>WILSON</td>\n",
       "    </tr>\n",
       "    <tr>\n",
       "      <th>8</th>\n",
       "      <td>MARGARET</td>\n",
       "      <td>MOORE</td>\n",
       "    </tr>\n",
       "    <tr>\n",
       "      <th>9</th>\n",
       "      <td>DOROTHY</td>\n",
       "      <td>TAYLOR</td>\n",
       "    </tr>\n",
       "  </tbody>\n",
       "</table>\n",
       "</div>"
      ],
      "text/plain": [
       "  first_name last_name\n",
       "0       MARY     SMITH\n",
       "1   PATRICIA   JOHNSON\n",
       "2      LINDA  WILLIAMS\n",
       "3    BARBARA     JONES\n",
       "4  ELIZABETH     BROWN\n",
       "5   JENNIFER     DAVIS\n",
       "6      MARIA    MILLER\n",
       "7      SUSAN    WILSON\n",
       "8   MARGARET     MOORE\n",
       "9    DOROTHY    TAYLOR"
      ]
     },
     "metadata": {},
     "output_type": "display_data"
    }
   ],
   "source": [
    "df = pd.read_sql('SELECT DISTINCT first_name,last_name FROM customer \\\n",
    "INNER JOIN rental ON customer.customer_id=rental.customer_id \\\n",
    "LIMIT 10;',con=db_connection)\n",
    "display(df)"
   ]
  }
 ],
 "metadata": {
  "kernelspec": {
   "display_name": "Python 3",
   "language": "python",
   "name": "python3"
  },
  "language_info": {
   "codemirror_mode": {
    "name": "ipython",
    "version": 3
   },
   "file_extension": ".py",
   "mimetype": "text/x-python",
   "name": "python",
   "nbconvert_exporter": "python",
   "pygments_lexer": "ipython3",
   "version": "3.7.0"
  }
 },
 "nbformat": 4,
 "nbformat_minor": 2
}
